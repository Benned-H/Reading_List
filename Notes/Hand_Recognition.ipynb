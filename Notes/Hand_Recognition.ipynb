{
  "nbformat": 4,
  "nbformat_minor": 0,
  "metadata": {
    "colab": {
      "name": "Hand Recognition",
      "version": "0.3.2",
      "provenance": [],
      "collapsed_sections": [
        "6w_xFBGE0iF_",
        "LoZGkQTy-HrW",
        "37MCrtPLtt5Z",
        "iWawD9RX--Xa"
      ],
      "include_colab_link": true
    },
    "kernelspec": {
      "name": "python3",
      "display_name": "Python 3"
    }
  },
  "cells": [
    {
      "cell_type": "markdown",
      "metadata": {
        "id": "view-in-github",
        "colab_type": "text"
      },
      "source": [
        "<a href=\"https://colab.research.google.com/github/Benned-H/Reading_List/blob/master/Notes/Hand_Recognition.ipynb\" target=\"_parent\"><img src=\"https://colab.research.google.com/assets/colab-badge.svg\" alt=\"Open In Colab\"/></a>"
      ]
    },
    {
      "cell_type": "markdown",
      "metadata": {
        "id": "6w_xFBGE0iF_",
        "colab_type": "text"
      },
      "source": [
        "# 1. Hand Segmentation Using Skin Color and Background Information\n",
        "By Wei Wang, Jing Pan"
      ]
    },
    {
      "cell_type": "markdown",
      "metadata": {
        "id": "Svqbo61i1Bbg",
        "colab_type": "text"
      },
      "source": [
        "This paper presents a new method for segmenting hands from the background of an image. Their method uses an adaptive skin color model with three steps:\n",
        "1. Capture pixel values of hand and background\n",
        "2. Propose Gaussian models on the color space\n",
        "3. Segment the image using various models, intersect the results\n",
        "\n",
        "Results were better than other skin-color-only models."
      ]
    },
    {
      "cell_type": "markdown",
      "metadata": {
        "id": "e0XNO_C11xaW",
        "colab_type": "text"
      },
      "source": [
        "## 1. Introduction"
      ]
    },
    {
      "cell_type": "markdown",
      "metadata": {
        "id": "sgkU6w3N1yeE",
        "colab_type": "text"
      },
      "source": [
        "Various applications make accurate hand quite important, and segmentation is a crucial first step in this process. Because human skin is generally within a limited range of hues, color-based hand recognition has been investigated for decades. The process depends on two choices: the **color space** and the **model of distribution** for skin colors. Prior work used a variety of techniques and spaces, including:\n",
        "* Color spaces: Normalized RGB, CIE, XYZ, HSV, HSI, YCbCr\n",
        "* Gaussian model for distributions\n",
        "* Edge detection\n",
        "* Varied chrominance spaces\n",
        "* Skin/edge information in various spaces"
      ]
    },
    {
      "cell_type": "markdown",
      "metadata": {
        "id": "63PWGpyE4IDM",
        "colab_type": "text"
      },
      "source": [
        "## 2. Color Space and Gaussian model"
      ]
    },
    {
      "cell_type": "markdown",
      "metadata": {
        "id": "zqhkQsuQ4N_D",
        "colab_type": "text"
      },
      "source": [
        "Their method was primarily concerned with the use of background information to help segmentation. Thus they only used the normalized RGB and YCbCr color spaces and a single Gaussian model."
      ]
    },
    {
      "cell_type": "markdown",
      "metadata": {
        "id": "8_0v0skX4oPk",
        "colab_type": "text"
      },
      "source": [
        "**Normalized RGB**   \n",
        "RGB is a convenient color model widely used for processing image data. Unfortunately, the RGB color space is not robust because it cannot define the same color in different conditions or illumination. Normalized RGB was proposed to help this problem, and indeed gets better performance under different light conditions *only in uniform illumination*. Normalized RGB can be calculated as:\n",
        "\n",
        "$R=\\frac{R}{R+G+B}$; $G=\\frac{G}{R+G+B}$; $B=\\frac{B}{R+G+B}$."
      ]
    },
    {
      "cell_type": "markdown",
      "metadata": {
        "id": "ModQqCxF5_MK",
        "colab_type": "text"
      },
      "source": [
        "**YCbCr**   \n",
        "YCbCr is considered to be better for our purposes than RGB. The clustering is better, it's easy to calculate, and has far less overlap between skin and non-skin tones in various illumination conditions. YCbCr separates out a luminance signal (Y) and two chrominance components (Cb and Cr). We can discard signal Y to improve performance over various lighting conditions. The transform from RGB to YCbCr is simple:\n",
        "\n",
        "$\n",
        "\\begin{bmatrix}\n",
        "Y \\\\ Cb \\\\ Cr\n",
        "\\end{bmatrix}=\n",
        "\\begin{bmatrix}\n",
        "0.2568 & 0.5041 & 0.0979 \\\\\n",
        "-0.1482 & -0.2910 & 0.4392 \\\\\n",
        "0.4392 & -0.3678 & -0.0714\n",
        "\\end{bmatrix}\n",
        "\\begin{bmatrix}\n",
        "R \\\\ G \\\\ B\n",
        "\\end{bmatrix}+\n",
        "\\begin{bmatrix}\n",
        "16 \\\\ 128 \\\\ 128\n",
        "\\end{bmatrix}\n",
        "$"
      ]
    },
    {
      "cell_type": "markdown",
      "metadata": {
        "id": "LoZGkQTy-HrW",
        "colab_type": "text"
      },
      "source": [
        "## Gaussian Mixture Model - [Brilliant](https://brilliant.org/wiki/gaussian-mixture-model/#)"
      ]
    },
    {
      "cell_type": "markdown",
      "metadata": {
        "id": "sfWB9RygQ3vC",
        "colab_type": "text"
      },
      "source": [
        "Gaussian mixture models (GMMs) are a probabilistic model for representing normally distributed subpopulations within an overall population (a normal distribution has mean = median = mode, and symmetry over its center). Mixture models don't need to know which subpopulation each data point belongs to, which make them somewhat unsupervised learning (e.g. human height data would have two normal distributions between the sexes, which a GMM could capture)."
      ]
    },
    {
      "cell_type": "markdown",
      "metadata": {
        "id": "TKghJ421SXjP",
        "colab_type": "text"
      },
      "source": [
        "**Motivation**   \n",
        "We might want to try modeling data with a GMM if it appears to have more than one 'peak' distribution. Unimodal (one 'peak') models would give a poor fit in such a case, and yet GMMs retain the computational benefits of a single Gaussian model."
      ]
    },
    {
      "cell_type": "markdown",
      "metadata": {
        "id": "uInoVjDWUPft",
        "colab_type": "text"
      },
      "source": [
        "**To be continued upon additional probability background...**"
      ]
    },
    {
      "cell_type": "markdown",
      "metadata": {
        "id": "1lumBg1GU2Jj",
        "colab_type": "text"
      },
      "source": [
        "## 2 cont."
      ]
    },
    {
      "cell_type": "markdown",
      "metadata": {
        "id": "2eQ9fjriU3pn",
        "colab_type": "text"
      },
      "source": [
        "The properties of skin color can be modeled using a Gaussian distribution, which has the formula:   \n",
        "$f(x)=\\frac{1}{\\sqrt{2\\pi \\sigma ^2}}e^{-\\frac{(x-\\mu)^2}{2\\sigma^2}}$, where $\\mu$ is the mean value of the samples and $\\sigma$ is the variance value.\n",
        "\n",
        "Using this model for skin color is a process of matching each pixel in the image. If matched, we consider the pixel as a skin pixel, and if not we consider it background. The two parameters ($\\mu$ and $\\sigma$) decide the structure of our Gaussian model, and need to be learned. A common method for this is **offline training** on thousands of images, but these authors use an adaptive skin color model, which uses the center of the hand skin to calculate and constantly update the parameters of the model. This **online** model seems to work better in different illuminations. Because this paper doesn't explain that model, I'll read through the source of this idea:"
      ]
    },
    {
      "cell_type": "markdown",
      "metadata": {
        "id": "37MCrtPLtt5Z",
        "colab_type": "text"
      },
      "source": [
        "# 2. A New Method for Hand Segmentation Using Free-Form Skin Color Model\n",
        "By Ahmad Yahya Dawod, Junaidi Abdullah, and Md.Jahangir Alam"
      ]
    },
    {
      "cell_type": "markdown",
      "metadata": {
        "id": "BQhQnCYjt43Z",
        "colab_type": "text"
      },
      "source": [
        "Segmentation remains difficult; this paper proposes a new method using a free-form skin color model. The pixel values of the hand are represented in the YbCbCr color space, and the CbCr space is mapped to a CbCr plane. To cluster the region of skin color on this plane, edge detection is used (as opposed to an ellipse) to construct a free-form skin color model."
      ]
    },
    {
      "cell_type": "markdown",
      "metadata": {
        "id": "IZ2gqHmXu5MK",
        "colab_type": "text"
      },
      "source": [
        "## I. Introduction"
      ]
    },
    {
      "cell_type": "markdown",
      "metadata": {
        "id": "kFkIMhequ6Lk",
        "colab_type": "text"
      },
      "source": [
        "The goal of hand segmentation is to detect the position and orientation of hands in an image; the aim of skin color pixel classification is to determine if a color pixel is a skin color or non-skin color. There are several techniques used to model the skin color:\n",
        "* An elliptical boundary model which fits an ellipse on the CbCr plane. The ellipse ends up including non-skin pixel colors, unfortunately.\n",
        "* Coarse model - Fixed straight lines are used as boundaries to a coarse region, but again this includes non-skin pixels.\n",
        "* Estimate the boundary by constructing bilinear and bicubic boxes around the CbCr pixel cluster. Same issue.\n",
        "\n",
        "This paper proposes a new method that uses a free-form boundary which models the skin color depending on the person and minimizes the inclusion of non-skin pixels."
      ]
    },
    {
      "cell_type": "markdown",
      "metadata": {
        "id": "o3MbdIsWwob9",
        "colab_type": "text"
      },
      "source": [
        "## II. Suggested Method"
      ]
    },
    {
      "cell_type": "markdown",
      "metadata": {
        "id": "SQQC4xgawtV9",
        "colab_type": "text"
      },
      "source": [
        "Their method consists of four modules:\n",
        "1. Image acquisition (skin region cropping)\n",
        "2. Mapping (CbCr color space mapping)\n",
        "3. Morphology (erosion & dilation)\n",
        "4. Boundary creation (detecting edges)"
      ]
    },
    {
      "cell_type": "markdown",
      "metadata": {
        "id": "AQPF2yfhxKeg",
        "colab_type": "text"
      },
      "source": [
        "**Image Acquisition**   \n",
        "Because different people have different skin tones, the authors believe (and I agree) that we shouldn't just define some general range for skin tones. Thus we need to crop a skin image of the person using the system to develop a free-form model specific to them. As has been mentioned, choosing the right color space is the first step we need to tackle. Long story short, we choose YCbCr for the previously written reasons (taken from here, by the way). Skin image cropping just crops the image so we only see a patch of the user's skin as the cropped result. We can then form a cluster in our color space with this example."
      ]
    },
    {
      "cell_type": "markdown",
      "metadata": {
        "id": "c2Nfm5TiynPy",
        "colab_type": "text"
      },
      "source": [
        "**CbCr Color Space Mapping**   \n",
        "They observed that the intensity value Y of YCbCr has little influence on the color distribution. On the Cb and Cr plane, we can generate a map where white (255) points are skin pixels and black (0) are non-skin. The resulting 255x255 map is the range of skin color present in the cropped image."
      ]
    },
    {
      "cell_type": "markdown",
      "metadata": {
        "id": "Z-894vL3zqU0",
        "colab_type": "text"
      },
      "source": [
        "**Morphology**   \n",
        "This stage uses image processing to create a cleaner single free-form shape. Two operations are used: Dilation adds pixels to fill in missing pixels in the white cluster and erosion removes extra pixels not belonging to the white cluster. Both help our resulting segmentation, and are applied in the order of dilation, erosion, and then edge point extraction."
      ]
    },
    {
      "cell_type": "markdown",
      "metadata": {
        "id": "v3jnx4A_1rYK",
        "colab_type": "text"
      },
      "source": [
        "**Boundary Creation**   \n",
        "Here we determine the actual region which will define skin and non-skin color pixels. We consider the white cluster and apply an edge detection algorithm, for which there are a few different methods (gradient, laplacian). The **gradient method** detects the edge by looking for the maximum and minimum in the first derivative of the image, whereas the **laplacian method** searches for zero crossings in the second derivative of the image."
      ]
    },
    {
      "cell_type": "markdown",
      "metadata": {
        "id": "tL5kUyZz3BNm",
        "colab_type": "text"
      },
      "source": [
        "For gradient edge detection, given image function $f(x,y)$, the gradient magnitude $g(x,y)$ and direction $\\theta(x,y)$ are computed as:   \n",
        "$g(x,y)\\cong \\sqrt{\\Delta x^2 + \\Delta y^2}$ and $\\theta(x,y)\\cong a \\tan(\\frac{\\Delta y}{\\Delta x})$,   \n",
        "where $\\Delta x =f(x+n,y)-f(x-n,y)$ and $\\Delta y =f(x,y+n)-f(x,y-n)$,   \n",
        "where $n$ is a small integer."
      ]
    },
    {
      "cell_type": "markdown",
      "metadata": {
        "id": "BB0o2QQH42BF",
        "colab_type": "text"
      },
      "source": [
        "They used the Sobel operator for the gradient method due to its fast speed, fine scale edge detection, and smoothing action. Once the edge has been detected, they arrive at the skin color cluster. Pixels with color in the cluster are skin, those not are classified as non-skin."
      ]
    },
    {
      "cell_type": "markdown",
      "metadata": {
        "id": "wSUAVvVC7vWB",
        "colab_type": "text"
      },
      "source": [
        "## III. Experimental Results"
      ]
    },
    {
      "cell_type": "markdown",
      "metadata": {
        "id": "RbwHBMhm7yMe",
        "colab_type": "text"
      },
      "source": [
        "The authors also implemented a few morphological operations on the detected hand: fill holes in the segmented hand and also index all white regions in descending order by number of pixels. Only the white region with the most pixels is marked as white in the final result. In another example, a watch cuts the hand at the wrist, and with this knowledge the authors can include the top two white regions."
      ]
    },
    {
      "cell_type": "markdown",
      "metadata": {
        "id": "CHleuMOQ8nMH",
        "colab_type": "text"
      },
      "source": [
        "To validate their work, the authors estimated a **true positive rate** (TPR) and **false positive rate** (FPR). These were calculated as:   \n",
        "$\\text{TPR}=\\frac{\\text{TP}}{\\text{TP}+\\text{FN}}$, $\\text{FPR}=\\frac{\\text{FP}}{\\text{FP}+\\text{TN}}$."
      ]
    },
    {
      "cell_type": "markdown",
      "metadata": {
        "id": "4NhDYIkU9egP",
        "colab_type": "text"
      },
      "source": [
        "## Conclusion"
      ]
    },
    {
      "cell_type": "markdown",
      "metadata": {
        "id": "QRAJX9UG9f8K",
        "colab_type": "text"
      },
      "source": [
        "This paper introduced a novel free-form skin color model in the YCbCr color space. Its most important contribution is the ability to accurately tailor a hand segmentation color space to a user, regardless of their skin color or the setting's illumination.\n",
        "\n",
        "*--Done 6/23/2019--*"
      ]
    },
    {
      "cell_type": "markdown",
      "metadata": {
        "id": "iWawD9RX--Xa",
        "colab_type": "text"
      },
      "source": [
        "# Resuming 1"
      ]
    },
    {
      "cell_type": "markdown",
      "metadata": {
        "id": "7zYBauBl_HFq",
        "colab_type": "text"
      },
      "source": [
        "## 3. Proposed Method"
      ]
    },
    {
      "cell_type": "markdown",
      "metadata": {
        "id": "ZpZ4jgVF_IvE",
        "colab_type": "text"
      },
      "source": [
        "Their model introduces a new technique based on mixing a background model and a skin color model. A flowchart of the process:   \n",
        "![Flowchart](https://i.imgur.com/m7YG08D.png)"
      ]
    },
    {
      "cell_type": "markdown",
      "metadata": {
        "id": "uwCt7P1WAdgG",
        "colab_type": "text"
      },
      "source": [
        "A prerequisite of the process is that we've detected a hand and have a region of interest (ROI) that's a cropped region fully containing the hand and some background as well. In this ROI, we crop a region $P_0$ that contains *only skin color* (in the center of the hand, probably), as we needed in the previously read paper. We also crop $N$ regions $(P_1, P_2, ... ,P_N)$ containing random samples of background color. These may include some skin color at this point, no problem. We build six directions of the model to best ensure an accurate skin color and background color sampling."
      ]
    },
    {
      "cell_type": "markdown",
      "metadata": {
        "id": "le6Ji66QF06I",
        "colab_type": "text"
      },
      "source": [
        "We now want to check whether the background samples actually belong to the background. We calculate the mean ($M_i$) and variance value ($s_i$) of each cropped region to set up their Gaussian models. Each background crop is then used to segment the skin crop region with an automatic threshold interval $T_i$. Pixels in the skin crop region among $T_i$ are set to white (255) and others are set to black (0). If the proportion of the white parts exceeds some fixed threshold $S$, the corresponding background image is considered truth background and is accepted, otherwise it's discarded. To ensure a mostly-uniform background color, background crop regions with variance above some value $V_m$ are also dropped."
      ]
    },
    {
      "cell_type": "markdown",
      "metadata": {
        "id": "uZlr9Bu2F5zp",
        "colab_type": "text"
      },
      "source": [
        "The skin crop regions and surviving background crop regions are used to segment the cropped image witht threshold $T_0$ and $T_1$, respectively. The segmentation results $(R_0,R_1,...,R_N)$ are intersected to get the final result. Their method used parameters $N=50$, $V_m=0.15$, $S=0.95$, and interval $T_i$ for the background crop region depended on $s_i$ to guarantee that 90% of the pixels in the crop region were in its Gaussian distribution. The original images were 320x240 and the cropped images varied in size."
      ]
    },
    {
      "cell_type": "markdown",
      "metadata": {
        "id": "2iIejrqyHJus",
        "colab_type": "text"
      },
      "source": [
        "## 4. Experimental Results"
      ]
    },
    {
      "cell_type": "markdown",
      "metadata": {
        "id": "4wKUjSO3HLr2",
        "colab_type": "text"
      },
      "source": [
        "Their method worked far better than the traditional only-skin-based method. In comparing different values for $N$, increasing the value helps the method up to some point. When $N$ exceeds about 40, improvements slow. Perhaps $N$ only needs to be large enough that all useful background information is obtained? A smaller $N$ is preferable for images with simple backgrounds, but no description of how to measure this is given."
      ]
    },
    {
      "cell_type": "markdown",
      "metadata": {
        "id": "O6ZzfLBuIX1V",
        "colab_type": "text"
      },
      "source": [
        "The authors evaluate the accuracy rate (AR) using the formula:   \n",
        "$\\text{AR}=\\frac{\\text{AS}\\cap \\text{AL}}{\\text{AS}\\cup \\text{AL}}$, where $\\text{AS}$ is the area of the segmented hand and $\\text{AL}$ is the area of the labeled hand in the image. Thus $\\text{AR}<1$ and a higher AR indicates a more accurate segmentation. Their method reaches an AR of 90.36% on a difficult image while the online model reached 69.30%."
      ]
    },
    {
      "cell_type": "markdown",
      "metadata": {
        "id": "1Ls74Rp33l6x",
        "colab_type": "text"
      },
      "source": [
        "## 5. Conclusions"
      ]
    },
    {
      "cell_type": "markdown",
      "metadata": {
        "id": "GqZdzpdQ3ngh",
        "colab_type": "text"
      },
      "source": [
        "This paper introduced a hand segmentation method which used background information samples to improve accuracy. They used only a Gaussian model to characterize skin color in the RGB and YCbCr color spaces. Future work might include a GMM or free-skin color model to make further improvements.   \n",
        "*--Done 6/24/2019--*"
      ]
    },
    {
      "cell_type": "markdown",
      "metadata": {
        "id": "FFpsQL5l8LYq",
        "colab_type": "text"
      },
      "source": [
        "# 3. Dilation\n",
        "By R. Fisher, S. Perkins, A. Walker, and E. Wolfart"
      ]
    },
    {
      "cell_type": "markdown",
      "metadata": {
        "id": "6-RBWY_lFV18",
        "colab_type": "text"
      },
      "source": [
        "## Introduction"
      ]
    },
    {
      "cell_type": "markdown",
      "metadata": {
        "id": "ZTj-i1Lz8OW0",
        "colab_type": "text"
      },
      "source": [
        "Dilation is one of the two basic operators of **mathematical morphology**, which concerns the theory of processing geometrical structures (typically applied to digital images). It's typically applied to binary images, and the basic effect is to gradually enlarge the boundaries of the **foreground** (white) pixels in the image. Thus the areas of white grow in size and holes in those regions shrink."
      ]
    },
    {
      "cell_type": "markdown",
      "metadata": {
        "id": "ir-Kl8DcIvwb",
        "colab_type": "text"
      },
      "source": [
        "## How It Works"
      ]
    },
    {
      "cell_type": "markdown",
      "metadata": {
        "id": "uC35BvScIw3D",
        "colab_type": "text"
      },
      "source": [
        "Dilation uses two inputs: the image to be dilated, and a **structuring element**. The structuring element (AKA kernel) is a set of coordinate points that determines the precise result of the dilation operation. The mathematical definition:   \n",
        "\n",
        "*Def*: Suppose $X$ is the set of Euclidean coordinates corresponding to the input binary image, and $K$ is the set of coordinates for the structuring element. Let $Kx$ denote the translation of $K$ so that its origin is at $x \\in X$. Then the dilation of $X$ by $K$ is simply the set of all points $x$ s.t. the intersection of $Kx$ with $X$ is non-empty.   \n",
        "*In my words*: For our result $Y \\subseteq X$, when we put kernel $K$ at each $y \\in Y$, $K$ will intersect with at least one $x \\in X$. I hope this is a correct understanding."
      ]
    },
    {
      "cell_type": "markdown",
      "metadata": {
        "id": "vat8xftbKI9L",
        "colab_type": "text"
      },
      "source": [
        "E.g. Let's say our structuring element is a 3x3 square, with origin at its center. We'll represent foreground pixels with 1's and background as 0's."
      ]
    },
    {
      "cell_type": "code",
      "metadata": {
        "id": "6w3HufE4MEtc",
        "colab_type": "code",
        "colab": {
          "base_uri": "https://localhost:8080/",
          "height": 269
        },
        "outputId": "d8a7aa6e-4023-4f71-8391-4c66af9bb075"
      },
      "source": [
        "#  Let's say our image is the following 10x10 pattern:\n",
        "import numpy as np\n",
        "from matplotlib import pyplot as plt\n",
        "\n",
        "image = np.array([[1,0,0,0,0,0,0,0,0,0],\n",
        "                [0,1,0,0,0,0,0,0,0,0],\n",
        "                [0,0,1,0,0,0,0,0,0,0],\n",
        "                [0,0,0,1,0,0,0,0,0,0],\n",
        "                [0,0,0,0,1,0,0,0,0,0],\n",
        "                [0,0,0,0,0,1,0,0,0,0],\n",
        "                [0,0,0,0,0,0,1,0,0,0],\n",
        "                [0,0,0,0,0,0,0,1,0,0],\n",
        "                [0,0,0,0,0,0,0,0,1,0],\n",
        "                [0,0,0,0,0,0,0,0,0,1]\n",
        "               ])\n",
        "plt.imshow(image)\n",
        "plt.show()"
      ],
      "execution_count": 6,
      "outputs": [
        {
          "output_type": "display_data",
          "data": {
            "image/png": "[encoded data removed]",
            "text/plain": [
              "<Figure size 432x288 with 1 Axes>"
            ]
          },
          "metadata": {
            "tags": []
          }
        }
      ]
    },
    {
      "cell_type": "code",
      "metadata": {
        "id": "EKjmf3NcM06a",
        "colab_type": "code",
        "colab": {
          "base_uri": "https://localhost:8080/",
          "height": 269
        },
        "outputId": "d184b54a-9c8d-4258-d85f-b4ccd5c02f25"
      },
      "source": [
        "# Our kernel:\n",
        "kernel = np.array([[1,1,1],[1,1,1],[1,1,1]])\n",
        "plt.imshow(kernel)\n",
        "plt.show()"
      ],
      "execution_count": 9,
      "outputs": [
        {
          "output_type": "display_data",
          "data": {
            "image/png": "[encoded data removed]",
            "text/plain": [
              "<Figure size 432x288 with 1 Axes>"
            ]
          },
          "metadata": {
            "tags": []
          }
        }
      ]
    },
    {
      "cell_type": "markdown",
      "metadata": {
        "id": "8VZWaqHRMzzD",
        "colab_type": "text"
      },
      "source": [
        "In order to compute the dilation of this binary image, we consider each background pixel of the image in turn. We then superimpose the kernel over each of these **input pixels**. If *at least one* of the kernel's pixels overlaps with a foreground pixel, the input pixel is set to the foreground (probably do this *after* we first consider each background pixel). Thus if all pixels were set to background when we start, nothing will change."
      ]
    },
    {
      "cell_type": "code",
      "metadata": {
        "id": "o12ac4xEOLTv",
        "colab_type": "code",
        "colab": {}
      },
      "source": [
        "def dilate(image, kernel, kernel_origin):\n",
        "  # Dilate the given image using the given kernel.\n",
        "  for r,row in enumerate(image):\n",
        "    for c,col in r:\n",
        "      "
      ],
      "execution_count": 0,
      "outputs": []
    },
    {
      "cell_type": "code",
      "metadata": {
        "id": "f8eVfTHGOgSF",
        "colab_type": "code",
        "colab": {}
      },
      "source": [
        "dilate(image,1,1)"
      ],
      "execution_count": 0,
      "outputs": []
    },
    {
      "cell_type": "code",
      "metadata": {
        "id": "9E-wJVviOb7W",
        "colab_type": "code",
        "colab": {
          "base_uri": "https://localhost:8080/",
          "height": 187
        },
        "outputId": "d6753aa2-c46b-4df5-db8e-c25577df8b85"
      },
      "source": [
        "for r in image:\n",
        "  print(r)"
      ],
      "execution_count": 10,
      "outputs": [
        {
          "output_type": "stream",
          "text": [
            "[1 0 0 0 0 0 0 0 0 0]\n",
            "[0 1 0 0 0 0 0 0 0 0]\n",
            "[0 0 1 0 0 0 0 0 0 0]\n",
            "[0 0 0 1 0 0 0 0 0 0]\n",
            "[0 0 0 0 1 0 0 0 0 0]\n",
            "[0 0 0 0 0 1 0 0 0 0]\n",
            "[0 0 0 0 0 0 1 0 0 0]\n",
            "[0 0 0 0 0 0 0 1 0 0]\n",
            "[0 0 0 0 0 0 0 0 1 0]\n",
            "[0 0 0 0 0 0 0 0 0 1]\n"
          ],
          "name": "stdout"
        }
      ]
    },
    {
      "cell_type": "markdown",
      "metadata": {
        "id": "YAd-766T-ngj",
        "colab_type": "text"
      },
      "source": [
        "# To Read/Learn:"
      ]
    },
    {
      "cell_type": "markdown",
      "metadata": {
        "id": "NbiBJ7NV-pN5",
        "colab_type": "text"
      },
      "source": [
        "* https://wolfcrow.com/understanding-luminance-and-chrominance/\n",
        "* https://homepages.inf.ed.ac.uk/rbf/HIPR2/dilate.htm\n",
        "* https://homepages.inf.ed.ac.uk/rbf/HIPR2/erode.htm\n",
        "* Sobel operator?"
      ]
    },
    {
      "cell_type": "markdown",
      "metadata": {
        "id": "dvlxkQv883iU",
        "colab_type": "text"
      },
      "source": [
        "Last revised 6/25/2019."
      ]
    }
  ]
}